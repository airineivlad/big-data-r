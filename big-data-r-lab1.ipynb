{
 "cells": [
  {
   "cell_type": "markdown",
   "metadata": {},
   "source": [
    "## Lab 1 - Introduction to R"
   ]
  },
  {
   "cell_type": "markdown",
   "metadata": {},
   "source": [
    "### Vectors \n",
    "1. Create vector u as -10,-9,-8..0. How many ways can you use?"
   ]
  },
  {
   "cell_type": "code",
   "execution_count": 23,
   "metadata": {},
   "outputs": [
    {
     "data": {
      "text/html": [
       "<ol class=list-inline>\n",
       "\t<li>-10</li>\n",
       "\t<li>-9</li>\n",
       "\t<li>-8</li>\n",
       "\t<li>-7</li>\n",
       "\t<li>-6</li>\n",
       "\t<li>-5</li>\n",
       "\t<li>-4</li>\n",
       "\t<li>-3</li>\n",
       "\t<li>-2</li>\n",
       "\t<li>-1</li>\n",
       "\t<li>0</li>\n",
       "</ol>\n"
      ],
      "text/latex": [
       "\\begin{enumerate*}\n",
       "\\item -10\n",
       "\\item -9\n",
       "\\item -8\n",
       "\\item -7\n",
       "\\item -6\n",
       "\\item -5\n",
       "\\item -4\n",
       "\\item -3\n",
       "\\item -2\n",
       "\\item -1\n",
       "\\item 0\n",
       "\\end{enumerate*}\n"
      ],
      "text/markdown": [
       "1. -10\n",
       "2. -9\n",
       "3. -8\n",
       "4. -7\n",
       "5. -6\n",
       "6. -5\n",
       "7. -4\n",
       "8. -3\n",
       "9. -2\n",
       "10. -1\n",
       "11. 0\n",
       "\n",
       "\n"
      ],
      "text/plain": [
       " [1] -10  -9  -8  -7  -6  -5  -4  -3  -2  -1   0"
      ]
     },
     "metadata": {},
     "output_type": "display_data"
    }
   ],
   "source": [
    "u <- -10:0\n",
    "u"
   ]
  },
  {
   "cell_type": "code",
   "execution_count": 24,
   "metadata": {},
   "outputs": [
    {
     "data": {
      "text/html": [
       "<ol class=list-inline>\n",
       "\t<li>-10</li>\n",
       "\t<li>-9</li>\n",
       "\t<li>-8</li>\n",
       "\t<li>-7</li>\n",
       "\t<li>-6</li>\n",
       "\t<li>-5</li>\n",
       "\t<li>-4</li>\n",
       "\t<li>-3</li>\n",
       "\t<li>-2</li>\n",
       "\t<li>-1</li>\n",
       "\t<li>0</li>\n",
       "</ol>\n"
      ],
      "text/latex": [
       "\\begin{enumerate*}\n",
       "\\item -10\n",
       "\\item -9\n",
       "\\item -8\n",
       "\\item -7\n",
       "\\item -6\n",
       "\\item -5\n",
       "\\item -4\n",
       "\\item -3\n",
       "\\item -2\n",
       "\\item -1\n",
       "\\item 0\n",
       "\\end{enumerate*}\n"
      ],
      "text/markdown": [
       "1. -10\n",
       "2. -9\n",
       "3. -8\n",
       "4. -7\n",
       "5. -6\n",
       "6. -5\n",
       "7. -4\n",
       "8. -3\n",
       "9. -2\n",
       "10. -1\n",
       "11. 0\n",
       "\n",
       "\n"
      ],
      "text/plain": [
       " [1] -10  -9  -8  -7  -6  -5  -4  -3  -2  -1   0"
      ]
     },
     "metadata": {},
     "output_type": "display_data"
    }
   ],
   "source": [
    "u <- seq(from=-10,to=0,by=1)\n",
    "u"
   ]
  },
  {
   "cell_type": "markdown",
   "metadata": {},
   "source": [
    "2. Create another vector v that has values -0.1, 0.4, 0.9, 1.4... there are 11 numbers "
   ]
  },
  {
   "cell_type": "code",
   "execution_count": 17,
   "metadata": {},
   "outputs": [
    {
     "data": {
      "text/html": [
       "<ol class=list-inline>\n",
       "\t<li>-0.1</li>\n",
       "\t<li>0.4</li>\n",
       "\t<li>0.9</li>\n",
       "\t<li>1.4</li>\n",
       "\t<li>1.9</li>\n",
       "\t<li>2.4</li>\n",
       "\t<li>2.9</li>\n",
       "\t<li>3.4</li>\n",
       "\t<li>3.9</li>\n",
       "\t<li>4.4</li>\n",
       "\t<li>4.9</li>\n",
       "</ol>\n"
      ],
      "text/latex": [
       "\\begin{enumerate*}\n",
       "\\item -0.1\n",
       "\\item 0.4\n",
       "\\item 0.9\n",
       "\\item 1.4\n",
       "\\item 1.9\n",
       "\\item 2.4\n",
       "\\item 2.9\n",
       "\\item 3.4\n",
       "\\item 3.9\n",
       "\\item 4.4\n",
       "\\item 4.9\n",
       "\\end{enumerate*}\n"
      ],
      "text/markdown": [
       "1. -0.1\n",
       "2. 0.4\n",
       "3. 0.9\n",
       "4. 1.4\n",
       "5. 1.9\n",
       "6. 2.4\n",
       "7. 2.9\n",
       "8. 3.4\n",
       "9. 3.9\n",
       "10. 4.4\n",
       "11. 4.9\n",
       "\n",
       "\n"
      ],
      "text/plain": [
       " [1] -0.1  0.4  0.9  1.4  1.9  2.4  2.9  3.4  3.9  4.4  4.9"
      ]
     },
     "metadata": {},
     "output_type": "display_data"
    }
   ],
   "source": [
    "v <- seq(from=-0.1,to=4.9,by=0.5)\n",
    "v"
   ]
  },
  {
   "cell_type": "code",
   "execution_count": 16,
   "metadata": {},
   "outputs": [
    {
     "data": {
      "text/html": [
       "<ol class=list-inline>\n",
       "\t<li>-0.1</li>\n",
       "\t<li>0.4</li>\n",
       "\t<li>0.9</li>\n",
       "\t<li>1.4</li>\n",
       "\t<li>1.9</li>\n",
       "\t<li>2.4</li>\n",
       "\t<li>2.9</li>\n",
       "\t<li>3.4</li>\n",
       "\t<li>3.9</li>\n",
       "\t<li>4.4</li>\n",
       "\t<li>4.9</li>\n",
       "</ol>\n"
      ],
      "text/latex": [
       "\\begin{enumerate*}\n",
       "\\item -0.1\n",
       "\\item 0.4\n",
       "\\item 0.9\n",
       "\\item 1.4\n",
       "\\item 1.9\n",
       "\\item 2.4\n",
       "\\item 2.9\n",
       "\\item 3.4\n",
       "\\item 3.9\n",
       "\\item 4.4\n",
       "\\item 4.9\n",
       "\\end{enumerate*}\n"
      ],
      "text/markdown": [
       "1. -0.1\n",
       "2. 0.4\n",
       "3. 0.9\n",
       "4. 1.4\n",
       "5. 1.9\n",
       "6. 2.4\n",
       "7. 2.9\n",
       "8. 3.4\n",
       "9. 3.9\n",
       "10. 4.4\n",
       "11. 4.9\n",
       "\n",
       "\n"
      ],
      "text/plain": [
       " [1] -0.1  0.4  0.9  1.4  1.9  2.4  2.9  3.4  3.9  4.4  4.9"
      ]
     },
     "metadata": {},
     "output_type": "display_data"
    }
   ],
   "source": [
    "v <- c(-0.1, 0.4, 0.9, 1.4, 1.9, 2.4, 2.9, 3.4, 3.9, 4.4, 4.9)\n",
    "v"
   ]
  },
  {
   "cell_type": "markdown",
   "metadata": {},
   "source": [
    "3. Calculate u + v"
   ]
  },
  {
   "cell_type": "code",
   "execution_count": 21,
   "metadata": {},
   "outputs": [
    {
     "data": {
      "text/html": [
       "<ol class=list-inline>\n",
       "\t<li>-10.1</li>\n",
       "\t<li>-8.6</li>\n",
       "\t<li>-7.1</li>\n",
       "\t<li>-5.6</li>\n",
       "\t<li>-4.1</li>\n",
       "\t<li>-2.6</li>\n",
       "\t<li>-1.1</li>\n",
       "\t<li>0.4</li>\n",
       "\t<li>1.9</li>\n",
       "\t<li>3.4</li>\n",
       "\t<li>4.9</li>\n",
       "</ol>\n"
      ],
      "text/latex": [
       "\\begin{enumerate*}\n",
       "\\item -10.1\n",
       "\\item -8.6\n",
       "\\item -7.1\n",
       "\\item -5.6\n",
       "\\item -4.1\n",
       "\\item -2.6\n",
       "\\item -1.1\n",
       "\\item 0.4\n",
       "\\item 1.9\n",
       "\\item 3.4\n",
       "\\item 4.9\n",
       "\\end{enumerate*}\n"
      ],
      "text/markdown": [
       "1. -10.1\n",
       "2. -8.6\n",
       "3. -7.1\n",
       "4. -5.6\n",
       "5. -4.1\n",
       "6. -2.6\n",
       "7. -1.1\n",
       "8. 0.4\n",
       "9. 1.9\n",
       "10. 3.4\n",
       "11. 4.9\n",
       "\n",
       "\n"
      ],
      "text/plain": [
       " [1] -10.1  -8.6  -7.1  -5.6  -4.1  -2.6  -1.1   0.4   1.9   3.4   4.9"
      ]
     },
     "metadata": {},
     "output_type": "display_data"
    }
   ],
   "source": [
    "u + v"
   ]
  },
  {
   "cell_type": "markdown",
   "metadata": {},
   "source": [
    "4. Increase all terms in u by 1, and then take away 20% from all terms in v.\n"
   ]
  },
  {
   "cell_type": "code",
   "execution_count": 25,
   "metadata": {},
   "outputs": [
    {
     "data": {
      "text/html": [
       "<ol class=list-inline>\n",
       "\t<li>-7.2</li>\n",
       "\t<li>-6.4</li>\n",
       "\t<li>-5.6</li>\n",
       "\t<li>-4.8</li>\n",
       "\t<li>-4</li>\n",
       "\t<li>-3.2</li>\n",
       "\t<li>-2.4</li>\n",
       "\t<li>-1.6</li>\n",
       "\t<li>-0.8</li>\n",
       "\t<li>0</li>\n",
       "\t<li>0.8</li>\n",
       "</ol>\n"
      ],
      "text/latex": [
       "\\begin{enumerate*}\n",
       "\\item -7.2\n",
       "\\item -6.4\n",
       "\\item -5.6\n",
       "\\item -4.8\n",
       "\\item -4\n",
       "\\item -3.2\n",
       "\\item -2.4\n",
       "\\item -1.6\n",
       "\\item -0.8\n",
       "\\item 0\n",
       "\\item 0.8\n",
       "\\end{enumerate*}\n"
      ],
      "text/markdown": [
       "1. -7.2\n",
       "2. -6.4\n",
       "3. -5.6\n",
       "4. -4.8\n",
       "5. -4\n",
       "6. -3.2\n",
       "7. -2.4\n",
       "8. -1.6\n",
       "9. -0.8\n",
       "10. 0\n",
       "11. 0.8\n",
       "\n",
       "\n"
      ],
      "text/plain": [
       " [1] -7.2 -6.4 -5.6 -4.8 -4.0 -3.2 -2.4 -1.6 -0.8  0.0  0.8"
      ]
     },
     "metadata": {},
     "output_type": "display_data"
    }
   ],
   "source": [
    "(u + 1)*0.8"
   ]
  },
  {
   "cell_type": "markdown",
   "metadata": {},
   "source": [
    "5. Create a vector w that contains all the numbers from u and then v. Assign the length of w to a variable\n",
    "len.\n",
    "\n"
   ]
  },
  {
   "cell_type": "code",
   "execution_count": 27,
   "metadata": {},
   "outputs": [
    {
     "data": {
      "text/html": [
       "<ol class=list-inline>\n",
       "\t<li>-10</li>\n",
       "\t<li>-9</li>\n",
       "\t<li>-8</li>\n",
       "\t<li>-7</li>\n",
       "\t<li>-6</li>\n",
       "\t<li>-5</li>\n",
       "\t<li>-4</li>\n",
       "\t<li>-3</li>\n",
       "\t<li>-2</li>\n",
       "\t<li>-1</li>\n",
       "\t<li>0</li>\n",
       "\t<li>-0.1</li>\n",
       "\t<li>0.4</li>\n",
       "\t<li>0.9</li>\n",
       "\t<li>1.4</li>\n",
       "\t<li>1.9</li>\n",
       "\t<li>2.4</li>\n",
       "\t<li>2.9</li>\n",
       "\t<li>3.4</li>\n",
       "\t<li>3.9</li>\n",
       "\t<li>4.4</li>\n",
       "\t<li>4.9</li>\n",
       "</ol>\n"
      ],
      "text/latex": [
       "\\begin{enumerate*}\n",
       "\\item -10\n",
       "\\item -9\n",
       "\\item -8\n",
       "\\item -7\n",
       "\\item -6\n",
       "\\item -5\n",
       "\\item -4\n",
       "\\item -3\n",
       "\\item -2\n",
       "\\item -1\n",
       "\\item 0\n",
       "\\item -0.1\n",
       "\\item 0.4\n",
       "\\item 0.9\n",
       "\\item 1.4\n",
       "\\item 1.9\n",
       "\\item 2.4\n",
       "\\item 2.9\n",
       "\\item 3.4\n",
       "\\item 3.9\n",
       "\\item 4.4\n",
       "\\item 4.9\n",
       "\\end{enumerate*}\n"
      ],
      "text/markdown": [
       "1. -10\n",
       "2. -9\n",
       "3. -8\n",
       "4. -7\n",
       "5. -6\n",
       "6. -5\n",
       "7. -4\n",
       "8. -3\n",
       "9. -2\n",
       "10. -1\n",
       "11. 0\n",
       "12. -0.1\n",
       "13. 0.4\n",
       "14. 0.9\n",
       "15. 1.4\n",
       "16. 1.9\n",
       "17. 2.4\n",
       "18. 2.9\n",
       "19. 3.4\n",
       "20. 3.9\n",
       "21. 4.4\n",
       "22. 4.9\n",
       "\n",
       "\n"
      ],
      "text/plain": [
       " [1] -10.0  -9.0  -8.0  -7.0  -6.0  -5.0  -4.0  -3.0  -2.0  -1.0   0.0  -0.1\n",
       "[13]   0.4   0.9   1.4   1.9   2.4   2.9   3.4   3.9   4.4   4.9"
      ]
     },
     "metadata": {},
     "output_type": "display_data"
    }
   ],
   "source": [
    "w <- c(u,v)\n",
    "w"
   ]
  },
  {
   "cell_type": "markdown",
   "metadata": {},
   "source": [
    "6. Use a command to return the 14th, 15th and 16th value of w. What about the 2nd, the 5th, 9th and\n",
    "21st value of w? What is the 23rd value?\n"
   ]
  },
  {
   "cell_type": "code",
   "execution_count": 33,
   "metadata": {},
   "outputs": [
    {
     "data": {
      "text/html": [
       "0.9"
      ],
      "text/latex": [
       "0.9"
      ],
      "text/markdown": [
       "0.9"
      ],
      "text/plain": [
       "[1] 0.9"
      ]
     },
     "metadata": {},
     "output_type": "display_data"
    }
   ],
   "source": [
    "w[14]"
   ]
  },
  {
   "cell_type": "code",
   "execution_count": 34,
   "metadata": {},
   "outputs": [
    {
     "data": {
      "text/html": [
       "1.4"
      ],
      "text/latex": [
       "1.4"
      ],
      "text/markdown": [
       "1.4"
      ],
      "text/plain": [
       "[1] 1.4"
      ]
     },
     "metadata": {},
     "output_type": "display_data"
    }
   ],
   "source": [
    "w[15]"
   ]
  },
  {
   "cell_type": "code",
   "execution_count": 35,
   "metadata": {},
   "outputs": [
    {
     "data": {
      "text/html": [
       "1.9"
      ],
      "text/latex": [
       "1.9"
      ],
      "text/markdown": [
       "1.9"
      ],
      "text/plain": [
       "[1] 1.9"
      ]
     },
     "metadata": {},
     "output_type": "display_data"
    }
   ],
   "source": [
    "w[16]"
   ]
  },
  {
   "cell_type": "code",
   "execution_count": 37,
   "metadata": {},
   "outputs": [
    {
     "data": {
      "text/html": [
       "-9"
      ],
      "text/latex": [
       "-9"
      ],
      "text/markdown": [
       "-9"
      ],
      "text/plain": [
       "[1] -9"
      ]
     },
     "metadata": {},
     "output_type": "display_data"
    }
   ],
   "source": [
    "w[2]"
   ]
  },
  {
   "cell_type": "code",
   "execution_count": 38,
   "metadata": {},
   "outputs": [
    {
     "data": {
      "text/html": [
       "-6"
      ],
      "text/latex": [
       "-6"
      ],
      "text/markdown": [
       "-6"
      ],
      "text/plain": [
       "[1] -6"
      ]
     },
     "metadata": {},
     "output_type": "display_data"
    }
   ],
   "source": [
    "w[5]"
   ]
  },
  {
   "cell_type": "code",
   "execution_count": 39,
   "metadata": {},
   "outputs": [
    {
     "data": {
      "text/html": [
       "-2"
      ],
      "text/latex": [
       "-2"
      ],
      "text/markdown": [
       "-2"
      ],
      "text/plain": [
       "[1] -2"
      ]
     },
     "metadata": {},
     "output_type": "display_data"
    }
   ],
   "source": [
    "w[9]"
   ]
  },
  {
   "cell_type": "code",
   "execution_count": 41,
   "metadata": {},
   "outputs": [
    {
     "data": {
      "text/html": [
       "4.4"
      ],
      "text/latex": [
       "4.4"
      ],
      "text/markdown": [
       "4.4"
      ],
      "text/plain": [
       "[1] 4.4"
      ]
     },
     "metadata": {},
     "output_type": "display_data"
    }
   ],
   "source": [
    "w[21]"
   ]
  },
  {
   "cell_type": "code",
   "execution_count": 42,
   "metadata": {},
   "outputs": [
    {
     "data": {
      "text/html": [
       "&lt;NA&gt;"
      ],
      "text/latex": [
       "<NA>"
      ],
      "text/markdown": [
       "&lt;NA&gt;"
      ],
      "text/plain": [
       "[1] NA"
      ]
     },
     "metadata": {},
     "output_type": "display_data"
    }
   ],
   "source": [
    "w[23]"
   ]
  },
  {
   "cell_type": "markdown",
   "metadata": {},
   "source": [
    "7. Replace the 3rd term of w by 100. Then replace the 7th, 15th and 22nd terms by 200, 300 and 400\n",
    "simultaneously.\n"
   ]
  },
  {
   "cell_type": "code",
   "execution_count": 44,
   "metadata": {},
   "outputs": [
    {
     "data": {
      "text/html": [
       "<ol class=list-inline>\n",
       "\t<li>-10</li>\n",
       "\t<li>-9</li>\n",
       "\t<li>100</li>\n",
       "\t<li>-7</li>\n",
       "\t<li>-6</li>\n",
       "\t<li>-5</li>\n",
       "\t<li>200</li>\n",
       "\t<li>-3</li>\n",
       "\t<li>-2</li>\n",
       "\t<li>-1</li>\n",
       "\t<li>0</li>\n",
       "\t<li>-0.1</li>\n",
       "\t<li>0.4</li>\n",
       "\t<li>0.9</li>\n",
       "\t<li>300</li>\n",
       "\t<li>1.9</li>\n",
       "\t<li>2.4</li>\n",
       "\t<li>2.9</li>\n",
       "\t<li>3.4</li>\n",
       "\t<li>3.9</li>\n",
       "\t<li>4.4</li>\n",
       "\t<li>400</li>\n",
       "</ol>\n"
      ],
      "text/latex": [
       "\\begin{enumerate*}\n",
       "\\item -10\n",
       "\\item -9\n",
       "\\item 100\n",
       "\\item -7\n",
       "\\item -6\n",
       "\\item -5\n",
       "\\item 200\n",
       "\\item -3\n",
       "\\item -2\n",
       "\\item -1\n",
       "\\item 0\n",
       "\\item -0.1\n",
       "\\item 0.4\n",
       "\\item 0.9\n",
       "\\item 300\n",
       "\\item 1.9\n",
       "\\item 2.4\n",
       "\\item 2.9\n",
       "\\item 3.4\n",
       "\\item 3.9\n",
       "\\item 4.4\n",
       "\\item 400\n",
       "\\end{enumerate*}\n"
      ],
      "text/markdown": [
       "1. -10\n",
       "2. -9\n",
       "3. 100\n",
       "4. -7\n",
       "5. -6\n",
       "6. -5\n",
       "7. 200\n",
       "8. -3\n",
       "9. -2\n",
       "10. -1\n",
       "11. 0\n",
       "12. -0.1\n",
       "13. 0.4\n",
       "14. 0.9\n",
       "15. 300\n",
       "16. 1.9\n",
       "17. 2.4\n",
       "18. 2.9\n",
       "19. 3.4\n",
       "20. 3.9\n",
       "21. 4.4\n",
       "22. 400\n",
       "\n",
       "\n"
      ],
      "text/plain": [
       " [1] -10.0  -9.0 100.0  -7.0  -6.0  -5.0 200.0  -3.0  -2.0  -1.0   0.0  -0.1\n",
       "[13]   0.4   0.9 300.0   1.9   2.4   2.9   3.4   3.9   4.4 400.0"
      ]
     },
     "metadata": {},
     "output_type": "display_data"
    }
   ],
   "source": [
    "w[3]=100\n",
    "w[7]=200\n",
    "w[15]=300\n",
    "w[22]=400\n",
    "w"
   ]
  },
  {
   "cell_type": "markdown",
   "metadata": {},
   "source": [
    "8. Remove u.\n"
   ]
  },
  {
   "cell_type": "code",
   "execution_count": 46,
   "metadata": {},
   "outputs": [
    {
     "data": {
      "text/html": [
       "<ol class=list-inline>\n",
       "\t<li>100</li>\n",
       "\t<li>200</li>\n",
       "\t<li>-0.1</li>\n",
       "\t<li>0.4</li>\n",
       "\t<li>0.9</li>\n",
       "\t<li>300</li>\n",
       "\t<li>1.9</li>\n",
       "\t<li>2.4</li>\n",
       "\t<li>2.9</li>\n",
       "\t<li>3.4</li>\n",
       "\t<li>3.9</li>\n",
       "\t<li>4.4</li>\n",
       "\t<li>400</li>\n",
       "</ol>\n"
      ],
      "text/latex": [
       "\\begin{enumerate*}\n",
       "\\item 100\n",
       "\\item 200\n",
       "\\item -0.1\n",
       "\\item 0.4\n",
       "\\item 0.9\n",
       "\\item 300\n",
       "\\item 1.9\n",
       "\\item 2.4\n",
       "\\item 2.9\n",
       "\\item 3.4\n",
       "\\item 3.9\n",
       "\\item 4.4\n",
       "\\item 400\n",
       "\\end{enumerate*}\n"
      ],
      "text/markdown": [
       "1. 100\n",
       "2. 200\n",
       "3. -0.1\n",
       "4. 0.4\n",
       "5. 0.9\n",
       "6. 300\n",
       "7. 1.9\n",
       "8. 2.4\n",
       "9. 2.9\n",
       "10. 3.4\n",
       "11. 3.9\n",
       "12. 4.4\n",
       "13. 400\n",
       "\n",
       "\n"
      ],
      "text/plain": [
       " [1] 100.0 200.0  -0.1   0.4   0.9 300.0   1.9   2.4   2.9   3.4   3.9   4.4\n",
       "[13] 400.0"
      ]
     },
     "metadata": {},
     "output_type": "display_data"
    }
   ],
   "source": [
    "setdiff(w, u)"
   ]
  },
  {
   "cell_type": "markdown",
   "metadata": {},
   "source": [
    "9. Remove all the objects in the environment."
   ]
  },
  {
   "cell_type": "code",
   "execution_count": 47,
   "metadata": {},
   "outputs": [],
   "source": [
    "rm(list = ls())"
   ]
  },
  {
   "cell_type": "markdown",
   "metadata": {},
   "source": [
    "### Matrices"
   ]
  },
  {
   "cell_type": "code",
   "execution_count": null,
   "metadata": {},
   "outputs": [],
   "source": []
  },
  {
   "cell_type": "code",
   "execution_count": null,
   "metadata": {},
   "outputs": [],
   "source": []
  }
 ],
 "metadata": {
  "kernelspec": {
   "display_name": "R",
   "language": "R",
   "name": "ir"
  },
  "language_info": {
   "codemirror_mode": "r",
   "file_extension": ".r",
   "mimetype": "text/x-r-source",
   "name": "R",
   "pygments_lexer": "r",
   "version": "3.4.4"
  }
 },
 "nbformat": 4,
 "nbformat_minor": 2
}
